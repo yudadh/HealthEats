{
  "nbformat": 4,
  "nbformat_minor": 0,
  "metadata": {
    "accelerator": "GPU",
    "colab": {
      "provenance": [],
      "toc_visible": true
    },
    "kernelspec": {
      "display_name": "Python 3",
      "language": "python",
      "name": "python3"
    },
    "language_info": {
      "codemirror_mode": {
        "name": "ipython",
        "version": 3
      },
      "file_extension": ".py",
      "mimetype": "text/x-python",
      "name": "python",
      "nbconvert_exporter": "python",
      "pygments_lexer": "ipython3",
      "version": "3.7.4"
    }
  },
  "cells": [
    {
      "cell_type": "markdown",
      "metadata": {
        "id": "nyqEVpfjYGd1"
      },
      "source": [
        "![profile.png](data:image/png;base64,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)"
      ]
    },
    {
      "cell_type": "markdown",
      "metadata": {
        "id": "GSklVoMJP_K9"
      },
      "source": [
        "# Deployment to TensorflowJS\n",
        "\n",
        "Tensorflow.js provides a model converter that allows user to migrate a model from Python to the browser. In this script, we use a command line utility that converts our Keras model for use in Tensorflow.js.\n",
        "\n",
        "##### View this notebook in [Google Colab](https://drive.google.com/file/d/1znbKFQs98XolesqOZzseFjOLVPkGoXiq/view?usp=sharing)"
      ]
    },
    {
      "cell_type": "markdown",
      "metadata": {
        "id": "IJcG_XC4QPOQ"
      },
      "source": [
        "# Import Resources\n",
        "\n",
        "Mount Google Drive and install `tensorflowj` - this will allow us to export our Keras Saved Model to a format more suitable for JavaScript."
      ]
    },
    {
      "cell_type": "code",
      "metadata": {
        "colab": {
          "base_uri": "https://localhost:8080/"
        },
        "id": "d-g5huxAMGfN",
        "outputId": "12c62678-cc1e-4801-a7c5-74bc49da9670"
      },
      "source": [
        "from google.colab import drive\n",
        "drive.mount('/content/drive')"
      ],
      "execution_count": null,
      "outputs": [
        {
          "output_type": "stream",
          "text": [
            "Mounted at /content/drive\n"
          ],
          "name": "stdout"
        }
      ]
    },
    {
      "cell_type": "code",
      "metadata": {
        "colab": {
          "base_uri": "https://localhost:8080/"
        },
        "id": "n3qBBZlTMGfN",
        "outputId": "b862f178-3abe-4ede-89ce-2573cb5c9045"
      },
      "source": [
        "!pip install tensorflowjs==1.2.9 --quiet\n",
        "import shutil"
      ],
      "execution_count": null,
      "outputs": [
        {
          "output_type": "stream",
          "text": [
            "\u001b[?25l\r\u001b[K     |███████                         | 10kB 29.2MB/s eta 0:00:01\r\u001b[K     |██████████████▏                 | 20kB 34.6MB/s eta 0:00:01\r\u001b[K     |█████████████████████▏          | 30kB 21.8MB/s eta 0:00:01\r\u001b[K     |████████████████████████████▎   | 40kB 25.4MB/s eta 0:00:01\r\u001b[K     |████████████████████████████████| 51kB 7.3MB/s \n",
            "\u001b[K     |████████████████████████████████| 317kB 30.4MB/s \n",
            "\u001b[K     |████████████████████████████████| 17.3MB 197kB/s \n",
            "\u001b[K     |████████████████████████████████| 81kB 12.1MB/s \n",
            "\u001b[K     |████████████████████████████████| 2.8MB 53.2MB/s \n",
            "\u001b[K     |████████████████████████████████| 109.3MB 68kB/s \n",
            "\u001b[K     |████████████████████████████████| 51kB 8.2MB/s \n",
            "\u001b[K     |████████████████████████████████| 256kB 31.8MB/s \n",
            "\u001b[K     |████████████████████████████████| 491kB 54.2MB/s \n",
            "\u001b[K     |████████████████████████████████| 3.2MB 50.0MB/s \n",
            "\u001b[?25h  Building wheel for PyInquirer (setup.py) ... \u001b[?25l\u001b[?25hdone\n",
            "\u001b[31mERROR: umap-learn 0.5.1 has requirement numpy>=1.17, but you'll have numpy 1.16.4 which is incompatible.\u001b[0m\n",
            "\u001b[31mERROR: pyarrow 3.0.0 has requirement numpy>=1.16.6, but you'll have numpy 1.16.4 which is incompatible.\u001b[0m\n",
            "\u001b[31mERROR: google-colab 1.0.0 has requirement six~=1.15.0, but you'll have six 1.11.0 which is incompatible.\u001b[0m\n",
            "\u001b[31mERROR: google-api-python-client 1.12.8 has requirement six<2dev,>=1.13.0, but you'll have six 1.11.0 which is incompatible.\u001b[0m\n",
            "\u001b[31mERROR: google-api-core 1.26.1 has requirement six>=1.13.0, but you'll have six 1.11.0 which is incompatible.\u001b[0m\n",
            "\u001b[31mERROR: dm-tree 0.1.5 has requirement six>=1.12.0, but you'll have six 1.11.0 which is incompatible.\u001b[0m\n",
            "\u001b[31mERROR: datascience 0.10.6 has requirement folium==0.2.1, but you'll have folium 0.8.3 which is incompatible.\u001b[0m\n",
            "\u001b[31mERROR: astropy 4.2 has requirement numpy>=1.17, but you'll have numpy 1.16.4 which is incompatible.\u001b[0m\n",
            "\u001b[31mERROR: albumentations 0.1.12 has requirement imgaug<0.2.7,>=0.2.5, but you'll have imgaug 0.2.9 which is incompatible.\u001b[0m\n"
          ],
          "name": "stdout"
        }
      ]
    },
    {
      "cell_type": "markdown",
      "metadata": {
        "id": "MBTZOqGta41e"
      },
      "source": [
        "# Converting our Model\n",
        "\n",
        "The `tensorflowjs_converter` tool converts our .h5 model file into two files.\n",
        "\n",
        "`model.json` - stores metadata around the structure and design of our exported model.\n",
        "\n",
        "`*.bin` - stores the model weights in a set of binary weight files.\n"
      ]
    },
    {
      "cell_type": "markdown",
      "metadata": {
        "id": "yz9p-hF_ZWMJ"
      },
      "source": [
        "### Model Conversion\n",
        "\n",
        "We convert our Keras Model to the TensorflowJS format. We quantize our weights to optimize performance in the browser."
      ]
    },
    {
      "cell_type": "code",
      "metadata": {
        "id": "RIz91NnKbq-j"
      },
      "source": [
        "saved_model_path = \"/content/drive/MyDrive/coffee-mate/model/my_model.h5\"\n",
        "\n",
        "!tensorflowjs_converter --quantization_bytes 1 --input_format=keras {saved_model_path} ./temp2/"
      ],
      "execution_count": null,
      "outputs": []
    },
    {
      "cell_type": "markdown",
      "metadata": {
        "id": "izJ-8Iq3b0kG"
      },
      "source": [
        "### Archive Zip File\n"
      ]
    },
    {
      "cell_type": "code",
      "metadata": {
        "id": "l8wkxd1Eby5v"
      },
      "source": [
        "shutil.make_archive('temp', 'zip', '/content/temp2')"
      ],
      "execution_count": null,
      "outputs": []
    }
  ]
}